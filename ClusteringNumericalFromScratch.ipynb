{
 "cells": [
  {
   "cell_type": "markdown",
   "metadata": {},
   "source": [
    "## Numerical example for clustering\n",
    "\n",
    "- Let us do clustering in 2D only two dimensions and observe the weather patterns\n",
    "- I am using 2 D data for demo purpose as it is easy for visualization and understanding\n",
    "- We are categorizing weather into 3 types namely\n",
    "    1. Hot and Humid\n",
    "    2. Moderate\n",
    "    3. Cold and dry\n",
    "    \n",
    "    \n",
    "I have created a simple data set of temperature and humidity\n",
    "\n",
    "As there are 3 categories `k = 3` in this example"
   ]
  },
  {
   "cell_type": "code",
   "execution_count": 299,
   "metadata": {},
   "outputs": [],
   "source": [
    "import numpy as np\n",
    "import pandas as pd\n",
    "import matplotlib.pyplot as plt\n",
    "plt.style.use('ggplot')"
   ]
  },
  {
   "cell_type": "markdown",
   "metadata": {},
   "source": [
    "## Let us create data set\n",
    "\n",
    "### columns:\n",
    "1. Temperature: in celsius\n",
    "2. Humidity in percentage"
   ]
  },
  {
   "cell_type": "code",
   "execution_count": 300,
   "metadata": {},
   "outputs": [
    {
     "data": {
      "text/html": [
       "<div>\n",
       "<style scoped>\n",
       "    .dataframe tbody tr th:only-of-type {\n",
       "        vertical-align: middle;\n",
       "    }\n",
       "\n",
       "    .dataframe tbody tr th {\n",
       "        vertical-align: top;\n",
       "    }\n",
       "\n",
       "    .dataframe thead th {\n",
       "        text-align: right;\n",
       "    }\n",
       "</style>\n",
       "<table border=\"1\" class=\"dataframe\">\n",
       "  <thead>\n",
       "    <tr style=\"text-align: right;\">\n",
       "      <th></th>\n",
       "      <th>temperature</th>\n",
       "      <th>Humidity</th>\n",
       "    </tr>\n",
       "  </thead>\n",
       "  <tbody>\n",
       "    <tr>\n",
       "      <th>0</th>\n",
       "      <td>34</td>\n",
       "      <td>80</td>\n",
       "    </tr>\n",
       "    <tr>\n",
       "      <th>1</th>\n",
       "      <td>32</td>\n",
       "      <td>90</td>\n",
       "    </tr>\n",
       "    <tr>\n",
       "      <th>2</th>\n",
       "      <td>38</td>\n",
       "      <td>70</td>\n",
       "    </tr>\n",
       "    <tr>\n",
       "      <th>3</th>\n",
       "      <td>30</td>\n",
       "      <td>92</td>\n",
       "    </tr>\n",
       "    <tr>\n",
       "      <th>4</th>\n",
       "      <td>35</td>\n",
       "      <td>77</td>\n",
       "    </tr>\n",
       "  </tbody>\n",
       "</table>\n",
       "</div>"
      ],
      "text/plain": [
       "   temperature  Humidity\n",
       "0           34        80\n",
       "1           32        90\n",
       "2           38        70\n",
       "3           30        92\n",
       "4           35        77"
      ]
     },
     "execution_count": 300,
     "metadata": {},
     "output_type": "execute_result"
    }
   ],
   "source": [
    "temperature = pd.DataFrame(\n",
    "    {\n",
    "        \"temperature\": [34,32,38,30,35,26,13,11,7,-2,6,0,-4,10],\n",
    "        \"Humidity\":    [80,90,70,92,77,80,46,41,50,28,62,30,42,50]\n",
    "    }\n",
    ")\n",
    "temperature.head()"
   ]
  },
  {
   "cell_type": "markdown",
   "metadata": {},
   "source": [
    "## For Clustering Algorithm the random sample of centeroid is assumed\n",
    "\n",
    "* As we are classifiying 3 clusters we will create 3 random centeroid\n",
    "* We will compute the Euclidian distance of the points from the assumed centeroid and predict the pattern\n",
    "* The Centeroid which is closest to the datapoint is the predicted cluster\n",
    "\n",
    "\n",
    "To simplify \n",
    "\n",
    "let us assume we are using the data point (34,80) we will compute the distance of that point from the 3 centeroids. The centeroid which is closest to the point is the predicted class\n",
    "\n",
    "This process is iterative until we reach the best classification point"
   ]
  },
  {
   "cell_type": "code",
   "execution_count": 301,
   "metadata": {},
   "outputs": [
    {
     "data": {
      "text/html": [
       "<div>\n",
       "<style scoped>\n",
       "    .dataframe tbody tr th:only-of-type {\n",
       "        vertical-align: middle;\n",
       "    }\n",
       "\n",
       "    .dataframe tbody tr th {\n",
       "        vertical-align: top;\n",
       "    }\n",
       "\n",
       "    .dataframe thead th {\n",
       "        text-align: right;\n",
       "    }\n",
       "</style>\n",
       "<table border=\"1\" class=\"dataframe\">\n",
       "  <thead>\n",
       "    <tr style=\"text-align: right;\">\n",
       "      <th></th>\n",
       "      <th>temperature</th>\n",
       "      <th>Humidity</th>\n",
       "    </tr>\n",
       "  </thead>\n",
       "  <tbody>\n",
       "    <tr>\n",
       "      <th>3</th>\n",
       "      <td>30</td>\n",
       "      <td>92</td>\n",
       "    </tr>\n",
       "  </tbody>\n",
       "</table>\n",
       "</div>"
      ],
      "text/plain": [
       "   temperature  Humidity\n",
       "3           30        92"
      ]
     },
     "execution_count": 301,
     "metadata": {},
     "output_type": "execute_result"
    }
   ],
   "source": [
    "np.random.seed(40)\n",
    "\n",
    "X_random1 = np.random.choice(np.array(temperature[\"temperature\"]))\n",
    "Y_random1 = np.random.choice(np.array(temperature[\"Humidity\"]))\n",
    "\n",
    "centroid_init_class1 = X_random1,Y_random1\n",
    "\n",
    "np.random.seed(5)\n",
    "X_random2 = np.random.choice(np.array(temperature[\"temperature\"]))\n",
    "Y_random2 = np.random.choice(np.array(temperature[\"Humidity\"]))\n",
    "\n",
    "centroid_init_class2 = X_random2,Y_random2\n",
    "\n",
    "\n",
    "np.random.seed(52)\n",
    "X_random3 = np.random.choice(np.array(temperature[\"temperature\"]))\n",
    "Y_random3 = np.random.choice(np.array(temperature[\"Humidity\"]))\n",
    "\n",
    "centroid_init_class3 = X_random3,Y_random3\n",
    "\n",
    "\n",
    "\n",
    "temperature.sample(random_state=1)\n",
    "\n",
    "\n",
    "\n"
   ]
  },
  {
   "cell_type": "code",
   "execution_count": 302,
   "metadata": {},
   "outputs": [
    {
     "data": {
      "text/plain": [
       "((13, 30), (30, 50), (26, 42))"
      ]
     },
     "execution_count": 302,
     "metadata": {},
     "output_type": "execute_result"
    }
   ],
   "source": [
    "centroid_init_class1,centroid_init_class2,centroid_init_class3"
   ]
  },
  {
   "cell_type": "markdown",
   "metadata": {},
   "source": [
    "## The below functions compute Euclidian distance \n",
    "\n",
    "## The second function computes the nearest centeroid"
   ]
  },
  {
   "cell_type": "code",
   "execution_count": 303,
   "metadata": {},
   "outputs": [],
   "source": [
    "def distance(X1,Y1,X2,Y2):\n",
    "    '''params\n",
    "        X1: x - cordinate of first sample,\n",
    "        Y1: y - cordinate of first sample,\n",
    "        X2: x - cordinate of second sample,\n",
    "        Y2: y - cordinate of second sample \n",
    "    '''\n",
    "    \n",
    "    return ((X2-X1)**2 +(Y2-Y1)**2)**(1/2)\n",
    "\n",
    "\n",
    "\n",
    "def nearest_cluster(points,c1,c2,c3):\n",
    "    '''\n",
    "    Point: (Tuple) the point to be tested,\n",
    "    C1:    (Tuple) centroid of first cluster\n",
    "    C2:    (Tuple) centroid of Second cluster\n",
    "    \n",
    "    '''\n",
    "    \n",
    "    c1x = c1[0]\n",
    "    c1y = c1[1]\n",
    "    c2x = c2[0]\n",
    "    c2y = c2[1]\n",
    "    c3x = c3[0]\n",
    "    c3y = c3[1]\n",
    "    res = []\n",
    "    for px,py in points:\n",
    "    \n",
    "        if distance(px,py,c1x,c1y) < distance(px,py,c2x,c2y) and distance(px,py,c1x,c1y) < distance(px,py,c3x,c3y):\n",
    "            res.append(\"c1\")\n",
    "        elif distance(px,py,c2x,c2y) < distance(px,py,c1x,c1y) and distance(px,py,c2x,c2y) < distance(px,py,c3x,c3y):\n",
    "            res.append('c2')\n",
    "        else:\n",
    "            res.append('c3')\n",
    "        print(distance(px,py,c1x,c1y),\"  \",distance(px,py,c2x,c2y),\"  \",distance(px,py,c3x,c3y))\n",
    "    return res  \n",
    "    \n",
    "\n",
    "\n",
    "    \n",
    "    "
   ]
  },
  {
   "cell_type": "markdown",
   "metadata": {},
   "source": [
    "## Let us visualize the data set\n",
    "\n",
    "## The centeroid is marked with different color and size\n",
    "\n",
    "- We can observe 3 different patterns visible in the data set regarding the temperature \n",
    "\n",
    "- If temperature and humidity is low the region belongs to cold and dry climate\n",
    "- If the temp and humidity are medium then the region is normal\n",
    "- The third class is hot and humid respectively\n",
    "\n",
    "\n",
    "## Class1: color blue - Cold and dry\n",
    "## Class2: color Orange: Hot and humid\n",
    "## Class3: color black  - Normal"
   ]
  },
  {
   "cell_type": "code",
   "execution_count": 304,
   "metadata": {},
   "outputs": [
    {
     "data": {
      "text/plain": [
       "Text(0, 0.5, 'Humidity')"
      ]
     },
     "execution_count": 304,
     "metadata": {},
     "output_type": "execute_result"
    },
    {
     "data": {
      "image/png": "[encoded data removed]",
      "text/plain": [
       "<Figure size 720x576 with 1 Axes>"
      ]
     },
     "metadata": {},
     "output_type": "display_data"
    }
   ],
   "source": [
    "plt.figure(figsize=(10,8))\n",
    "plt.scatter(temperature['temperature'],temperature['Humidity'])\n",
    "plt.scatter([centroid_init_class1[0]],[centroid_init_class1[1]],c='b',s=200)\n",
    "plt.scatter([centroid_init_class2[0]],[centroid_init_class2[1]],c='orange',s=200)\n",
    "plt.scatter([centroid_init_class3[0]],[centroid_init_class3[1]],c='black',s=200)\n",
    "plt.xlabel(\"Temperature\")\n",
    "plt.ylabel(\"Humidity\")"
   ]
  },
  {
   "cell_type": "markdown",
   "metadata": {},
   "source": [
    "## Let us compute the nearest distance and classify the pattern"
   ]
  },
  {
   "cell_type": "code",
   "execution_count": 305,
   "metadata": {},
   "outputs": [],
   "source": [
    "temperature['label'] =''\n",
    "\n",
    "#temperature=[]\n",
    "\n",
    "\n",
    "#temperature['label'] = temperature['label'].apply(lambda x: nearest_cluster(centroid_init_class1,centroid_init_class2,centroid_init_class3))"
   ]
  },
  {
   "cell_type": "code",
   "execution_count": 306,
   "metadata": {},
   "outputs": [
    {
     "name": "stdout",
     "output_type": "stream",
     "text": [
      "54.230987451824994    30.265491900843113    38.8329756778952\n",
      "62.93647591023825    40.049968789001575    48.373546489791295\n",
      "47.16990566028302    21.540659228538015    30.463092423455635\n",
      "64.28841264178172    42.0    50.15974481593781\n",
      "51.894122981316485    27.459060435491963    36.138621999185304\n",
      "51.66236541235796    30.265491900843113    38.0\n",
      "16.0    17.46424919657298    13.601470508735444\n",
      "11.180339887498949    21.02379604162864    15.033296378372908\n",
      "20.8806130178211    23.0    20.615528128088304\n",
      "15.132745950421556    38.8329756778952    31.304951684997057\n",
      "32.7566787083184    26.832815729997478    28.284271247461902\n",
      "13.0    36.05551275463989    28.635642126552707\n",
      "20.808652046684813    34.92849839314596    30.0\n",
      "20.223748416156685    20.0    17.88854381999832\n"
     ]
    }
   ],
   "source": [
    "t = temperature.copy()\n",
    "t = t.drop('label',axis=1)\n",
    "t = np.array(t)\n",
    "label =nearest_cluster(t,centroid_init_class1,centroid_init_class2,centroid_init_class3) "
   ]
  },
  {
   "cell_type": "markdown",
   "metadata": {},
   "source": [
    "### Let us add the label column in the output \n",
    "- The column is just the perdiction which the algorithm has made\n",
    "- The label column is not present in the data set"
   ]
  },
  {
   "cell_type": "code",
   "execution_count": 307,
   "metadata": {},
   "outputs": [
    {
     "data": {
      "text/html": [
       "<div>\n",
       "<style scoped>\n",
       "    .dataframe tbody tr th:only-of-type {\n",
       "        vertical-align: middle;\n",
       "    }\n",
       "\n",
       "    .dataframe tbody tr th {\n",
       "        vertical-align: top;\n",
       "    }\n",
       "\n",
       "    .dataframe thead th {\n",
       "        text-align: right;\n",
       "    }\n",
       "</style>\n",
       "<table border=\"1\" class=\"dataframe\">\n",
       "  <thead>\n",
       "    <tr style=\"text-align: right;\">\n",
       "      <th></th>\n",
       "      <th>temperature</th>\n",
       "      <th>Humidity</th>\n",
       "      <th>label</th>\n",
       "    </tr>\n",
       "  </thead>\n",
       "  <tbody>\n",
       "    <tr>\n",
       "      <th>0</th>\n",
       "      <td>34</td>\n",
       "      <td>80</td>\n",
       "      <td>c2</td>\n",
       "    </tr>\n",
       "    <tr>\n",
       "      <th>1</th>\n",
       "      <td>32</td>\n",
       "      <td>90</td>\n",
       "      <td>c2</td>\n",
       "    </tr>\n",
       "    <tr>\n",
       "      <th>2</th>\n",
       "      <td>38</td>\n",
       "      <td>70</td>\n",
       "      <td>c2</td>\n",
       "    </tr>\n",
       "    <tr>\n",
       "      <th>3</th>\n",
       "      <td>30</td>\n",
       "      <td>92</td>\n",
       "      <td>c2</td>\n",
       "    </tr>\n",
       "    <tr>\n",
       "      <th>4</th>\n",
       "      <td>35</td>\n",
       "      <td>77</td>\n",
       "      <td>c2</td>\n",
       "    </tr>\n",
       "    <tr>\n",
       "      <th>5</th>\n",
       "      <td>26</td>\n",
       "      <td>80</td>\n",
       "      <td>c2</td>\n",
       "    </tr>\n",
       "    <tr>\n",
       "      <th>6</th>\n",
       "      <td>13</td>\n",
       "      <td>46</td>\n",
       "      <td>c3</td>\n",
       "    </tr>\n",
       "    <tr>\n",
       "      <th>7</th>\n",
       "      <td>11</td>\n",
       "      <td>41</td>\n",
       "      <td>c1</td>\n",
       "    </tr>\n",
       "    <tr>\n",
       "      <th>8</th>\n",
       "      <td>7</td>\n",
       "      <td>50</td>\n",
       "      <td>c3</td>\n",
       "    </tr>\n",
       "    <tr>\n",
       "      <th>9</th>\n",
       "      <td>-2</td>\n",
       "      <td>28</td>\n",
       "      <td>c1</td>\n",
       "    </tr>\n",
       "    <tr>\n",
       "      <th>10</th>\n",
       "      <td>6</td>\n",
       "      <td>62</td>\n",
       "      <td>c2</td>\n",
       "    </tr>\n",
       "    <tr>\n",
       "      <th>11</th>\n",
       "      <td>0</td>\n",
       "      <td>30</td>\n",
       "      <td>c1</td>\n",
       "    </tr>\n",
       "    <tr>\n",
       "      <th>12</th>\n",
       "      <td>-4</td>\n",
       "      <td>42</td>\n",
       "      <td>c1</td>\n",
       "    </tr>\n",
       "    <tr>\n",
       "      <th>13</th>\n",
       "      <td>10</td>\n",
       "      <td>50</td>\n",
       "      <td>c3</td>\n",
       "    </tr>\n",
       "  </tbody>\n",
       "</table>\n",
       "</div>"
      ],
      "text/plain": [
       "    temperature  Humidity label\n",
       "0            34        80    c2\n",
       "1            32        90    c2\n",
       "2            38        70    c2\n",
       "3            30        92    c2\n",
       "4            35        77    c2\n",
       "5            26        80    c2\n",
       "6            13        46    c3\n",
       "7            11        41    c1\n",
       "8             7        50    c3\n",
       "9            -2        28    c1\n",
       "10            6        62    c2\n",
       "11            0        30    c1\n",
       "12           -4        42    c1\n",
       "13           10        50    c3"
      ]
     },
     "execution_count": 307,
     "metadata": {},
     "output_type": "execute_result"
    }
   ],
   "source": [
    "temperature['label'] = label\n",
    "\n",
    "temperature"
   ]
  },
  {
   "cell_type": "markdown",
   "metadata": {},
   "source": [
    "## The labels are assigned artificially just to track in the demo\n",
    "- Clustring is a method of unsupervised learning so there are no labels in the data\n",
    "- The Data Set is just for demo\n",
    "\n"
   ]
  },
  {
   "cell_type": "markdown",
   "metadata": {},
   "source": [
    "## Let us visualize after prediction\n",
    "\n",
    "- The model has done some prediction but its not the best one\n",
    "- This process is iterative untill we get the best prediction i.e less variance from the centeroid"
   ]
  },
  {
   "cell_type": "code",
   "execution_count": 308,
   "metadata": {},
   "outputs": [
    {
     "data": {
      "text/plain": [
       "Text(0, 0.5, 'Humidity')"
      ]
     },
     "execution_count": 308,
     "metadata": {},
     "output_type": "execute_result"
    },
    {
     "data": {
      "image/png": "[encoded data removed]",
      "text/plain": [
       "<Figure size 720x576 with 1 Axes>"
      ]
     },
     "metadata": {},
     "output_type": "display_data"
    }
   ],
   "source": [
    "plt.figure(figsize=(10,8))\n",
    "plt.scatter(temperature[temperature['label'] == 'c1'].loc[:,['temperature']],  temperature[temperature['label'] == 'c1'].loc[:,['Humidity']],c='b')\n",
    "plt.scatter(temperature[temperature['label'] == 'c2'].loc[:,['temperature']],  temperature[temperature['label'] == 'c2'].loc[:,['Humidity']],c='orange')\n",
    "plt.scatter(temperature[temperature['label'] == 'c3'].loc[:,['temperature']],  temperature[temperature['label'] == 'c3'].loc[:,['Humidity']],c='black')\n",
    "plt.xlabel(\"Temperature\")\n",
    "plt.ylabel(\"Humidity\")"
   ]
  },
  {
   "cell_type": "markdown",
   "metadata": {},
   "source": [
    "## Some what it has predicted the clomate clusters correctly\n",
    "\n",
    "- But this is not the best prediction\n",
    "- There are still mismatch in the data\n",
    "- We will now re iterate the process\n",
    "\n",
    "\n",
    "\n",
    "\n",
    "### Now let us calculate the centeroid\n",
    "\n",
    "\n",
    "#### The centeroid will now shift closer and the predictions will improve\n",
    "\n",
    "Let us see that in the next iteration"
   ]
  },
  {
   "cell_type": "code",
   "execution_count": 309,
   "metadata": {},
   "outputs": [],
   "source": [
    "def get_centeroid(df,c1,c2,c3):\n",
    "    cx1,cy1 = df[df['label']==c1].temperature.sum()/len(df[df['label']==c1]) , df[df['label']==c1].Humidity.sum()/len(df[df['label']==c1])\n",
    "    print(cx1,cy1)\n",
    "    cx2,cy2 = df[df['label']==c2].temperature.sum()/len(df[df['label']==c2]) , df[df['label']==c2].Humidity.sum()/len(df[df['label']==c2])\n",
    "    print(cx2,cy2)\n",
    "    cx3,cy3 = df[df['label']==c3].temperature.sum()/len(df[df['label']==c3]) , df[df['label']==c3].Humidity.sum()/len(df[df['label']==c3])\n",
    "    print(cx3,cy3)\n",
    "    return (cx1,cy1),(cx2,cy2),(cx3,cy3)"
   ]
  },
  {
   "cell_type": "code",
   "execution_count": 310,
   "metadata": {},
   "outputs": [
    {
     "name": "stdout",
     "output_type": "stream",
     "text": [
      "1.25 35.25\n",
      "28.714285714285715 78.71428571428571\n",
      "10.0 48.666666666666664\n"
     ]
    }
   ],
   "source": [
    "c1,c2,c3 = get_centeroid(temperature,\"c1\",\"c2\",\"c3\")"
   ]
  },
  {
   "cell_type": "code",
   "execution_count": 311,
   "metadata": {},
   "outputs": [
    {
     "data": {
      "text/plain": [
       "0.35714285714285715"
      ]
     },
     "execution_count": 311,
     "metadata": {},
     "output_type": "execute_result"
    }
   ],
   "source": [
    "temperature[temperature['label']=='c1'].temperature.sum()/temperature.shape[0]"
   ]
  },
  {
   "cell_type": "markdown",
   "metadata": {},
   "source": [
    "## Let us plot agian with new centeroids"
   ]
  },
  {
   "cell_type": "code",
   "execution_count": 312,
   "metadata": {},
   "outputs": [
    {
     "data": {
      "text/plain": [
       "Text(0, 0.5, 'Humidity')"
      ]
     },
     "execution_count": 312,
     "metadata": {},
     "output_type": "execute_result"
    },
    {
     "data": {
      "image/png": "[encoded data removed]",
      "text/plain": [
       "<Figure size 720x576 with 1 Axes>"
      ]
     },
     "metadata": {},
     "output_type": "display_data"
    }
   ],
   "source": [
    "plt.figure(figsize=(10,8))\n",
    "plt.scatter(temperature[temperature['label'] == 'c1'].loc[:,['temperature']],  temperature[temperature['label'] == 'c1'].loc[:,['Humidity']],c='b')\n",
    "plt.scatter(temperature[temperature['label'] == 'c2'].loc[:,['temperature']],  temperature[temperature['label'] == 'c2'].loc[:,['Humidity']],c='orange')\n",
    "plt.scatter(temperature[temperature['label'] == 'c3'].loc[:,['temperature']],  temperature[temperature['label'] == 'c3'].loc[:,['Humidity']],c='black')\n",
    "\n",
    "plt.scatter([c1[0]],[c1[1]],c='b',s=200)\n",
    "plt.scatter([c2[0]],[c2[1]],c='orange',s=200)\n",
    "plt.scatter([c3[0]],[c3[1]],c='black',s=200)\n",
    "\n",
    "plt.xlabel(\"Temperature\")\n",
    "plt.ylabel(\"Humidity\")"
   ]
  },
  {
   "cell_type": "markdown",
   "metadata": {},
   "source": [
    "## The centeroid are  marked ith bigger circles\n",
    "- The centeroids are shifted\n",
    "- Now the prediction will definately improve in next iteration\n",
    "- So now again we will find shortest distance\n",
    "- Once we get  the shortest distance we will classify again"
   ]
  },
  {
   "cell_type": "code",
   "execution_count": 315,
   "metadata": {},
   "outputs": [
    {
     "name": "stdout",
     "output_type": "stream",
     "text": [
      "58.93876294746758    2.1213203435596424    38.95125158451266\n",
      "66.0841214749134    8.514693182963201    46.11724189497893\n",
      "54.262735320332354    12.747548783981962    35.014282800023196\n",
      "66.8264751260889    10.793516572461451    46.959557067757785\n",
      "57.23441078387876    5.1478150704935    37.35237609577201\n",
      "54.4222176852228    6.670832032063167    34.4615728021807\n",
      "19.632739096836293    40.50308630215727    5.234500931320958\n",
      "15.09230856356236    45.8530260724415    8.944271909999156\n",
      "18.94143019356716    40.527768258318886    2.4083189157584597\n",
      "5.333333333333336    63.65924913160695    24.600812994695925\n",
      "29.762019047399615    32.901367752724205    12.664912159190054\n",
      "3.8873012632302024    60.897454790820284    21.91802910847597\n",
      "8.894442709417554    53.781967238099426    15.504837954651443\n",
      "20.537229067665816    38.71046370169182    0.6324555320336764\n"
     ]
    },
    {
     "data": {
      "text/plain": [
       "Text(0, 0.5, 'Humidity')"
      ]
     },
     "execution_count": 315,
     "metadata": {},
     "output_type": "execute_result"
    },
    {
     "data": {
      "image/png": "[encoded data removed]",
      "text/plain": [
       "<Figure size 720x576 with 1 Axes>"
      ]
     },
     "metadata": {},
     "output_type": "display_data"
    }
   ],
   "source": [
    "t = temperature.copy()\n",
    "temperature\n",
    "t = t.drop('label',axis=1)\n",
    "t = np.array(t)\n",
    "label =nearest_cluster(t,c1,c2,c3) \n",
    "temperature['label'] = label\n",
    "\n",
    "# Now we will plot\n",
    "\n",
    "plt.figure(figsize=(10,8))\n",
    "plt.scatter(temperature[temperature['label'] == 'c1'].loc[:,['temperature']],  temperature[temperature['label'] == 'c1'].loc[:,['Humidity']],c='b')\n",
    "plt.scatter(temperature[temperature['label'] == 'c2'].loc[:,['temperature']],  temperature[temperature['label'] == 'c2'].loc[:,['Humidity']],c='orange')\n",
    "plt.scatter(temperature[temperature['label'] == 'c3'].loc[:,['temperature']],  temperature[temperature['label'] == 'c3'].loc[:,['Humidity']],c='black')\n",
    "plt.xlabel(\"Temperature\")\n",
    "plt.ylabel(\"Humidity\")"
   ]
  },
  {
   "cell_type": "markdown",
   "metadata": {},
   "source": [
    "# Not much change in the prediction\n",
    "- We will repeat the above step again"
   ]
  },
  {
   "cell_type": "code",
   "execution_count": 316,
   "metadata": {},
   "outputs": [
    {
     "name": "stdout",
     "output_type": "stream",
     "text": [
      "-2.0 33.333333333333336\n",
      "32.5 81.5\n",
      "9.4 49.8\n"
     ]
    },
    {
     "data": {
      "text/plain": [
       "Text(0, 0.5, 'Humidity')"
      ]
     },
     "execution_count": 316,
     "metadata": {},
     "output_type": "execute_result"
    },
    {
     "data": {
      "image/png": "[encoded data removed]",
      "text/plain": [
       "<Figure size 720x576 with 1 Axes>"
      ]
     },
     "metadata": {},
     "output_type": "display_data"
    }
   ],
   "source": [
    "c1,c2,c3 = get_centeroid(temperature,\"c1\",\"c2\",\"c3\")\n",
    "\n",
    "\n",
    "\n",
    "plt.figure(figsize=(10,8))\n",
    "plt.scatter(temperature[temperature['label'] == 'c1'].loc[:,['temperature']],  temperature[temperature['label'] == 'c1'].loc[:,['Humidity']],c='b')\n",
    "plt.scatter(temperature[temperature['label'] == 'c2'].loc[:,['temperature']],  temperature[temperature['label'] == 'c2'].loc[:,['Humidity']],c='orange')\n",
    "plt.scatter(temperature[temperature['label'] == 'c3'].loc[:,['temperature']],  temperature[temperature['label'] == 'c3'].loc[:,['Humidity']],c='black')\n",
    "\n",
    "plt.scatter([c1[0]],[c1[1]],c='b',s=200)\n",
    "plt.scatter([c2[0]],[c2[1]],c='orange',s=200)\n",
    "plt.scatter([c3[0]],[c3[1]],c='black',s=200)\n",
    "\n",
    "plt.xlabel(\"Temperature\")\n",
    "plt.ylabel(\"Humidity\")"
   ]
  },
  {
   "cell_type": "markdown",
   "metadata": {},
   "source": [
    "## After certain number of iterations centeroid is not going to shift anymore and algorithm will  stop the iteration"
   ]
  },
  {
   "cell_type": "markdown",
   "metadata": {},
   "source": [
    "## Now the predictons are good and every thing seems to be clustered correctly. We will stop the process now after the second iteration"
   ]
  },
  {
   "cell_type": "markdown",
   "metadata": {},
   "source": [
    "This process looks lenghty but python has ML library for unsupervised learning\n",
    "\n",
    "- We dont have to worry much on building the algorithm from scratch \n",
    "- This is just demo"
   ]
  },
  {
   "cell_type": "code",
   "execution_count": null,
   "metadata": {},
   "outputs": [],
   "source": []
  }
 ],
 "metadata": {
  "kernelspec": {
   "display_name": "Python 3",
   "language": "python",
   "name": "python3"
  },
  "language_info": {
   "codemirror_mode": {
    "name": "ipython",
    "version": 3
   },
   "file_extension": ".py",
   "mimetype": "text/x-python",
   "name": "python",
   "nbconvert_exporter": "python",
   "pygments_lexer": "ipython3",
   "version": "3.8.3"
  }
 },
 "nbformat": 4,
 "nbformat_minor": 4
}
